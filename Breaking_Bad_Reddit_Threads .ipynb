{
  "metadata": {
    "kernelspec": {
      "name": "python",
      "display_name": "Python (Pyodide)",
      "language": "python"
    },
    "language_info": {
      "codemirror_mode": {
        "name": "python",
        "version": 3
      },
      "file_extension": ".py",
      "mimetype": "text/x-python",
      "name": "python",
      "nbconvert_exporter": "python",
      "pygments_lexer": "ipython3",
      "version": "3.8"
    }
  },
  "nbformat_minor": 5,
  "nbformat": 4,
  "cells": [
    {
      "id": "4f28c840-d78f-4a47-905e-9ae32e70c49b",
      "cell_type": "code",
      "source": "import pandas as pd",
      "metadata": {
        "trusted": true
      },
      "outputs": [],
      "execution_count": 361
    },
    {
      "id": "65a0957f-5ed1-4585-8a4f-794302378f47",
      "cell_type": "code",
      "source": "df = pd.read_csv('television_breakingbad.csv')",
      "metadata": {
        "trusted": true
      },
      "outputs": [],
      "execution_count": 362
    },
    {
      "id": "98e07ae2-998f-442d-aa41-740af97912ea",
      "cell_type": "code",
      "source": "# Firstrly, I assign a name to each column to make the DataFrame easier to read\ndf.columns = ['ID', 'Text', 'PostID', 'Subreddit', 'Metareddit', 'PressTime', 'Author', \n           'Upvotes', 'Downvotes', 'LinkKarma', 'Karma', 'AuthorIsGold']\n",
      "metadata": {
        "trusted": true
      },
      "outputs": [],
      "execution_count": 363
    },
    {
      "id": "c4bc2d30-960b-4082-96cb-8fb911ff55f8",
      "cell_type": "code",
      "source": "# Column \"ID\" is unnecessary, because there is a \"Post ID\"\ndf = df.drop(\"ID\", axis=1)\n# Furthermore, I will not use Subreddit and Metareddit columns since all threads are dedicated to one topic - The Breaking Bad series",
      "metadata": {
        "trusted": true
      },
      "outputs": [],
      "execution_count": 364
    },
    {
      "id": "abb589f1-20ac-433e-9d52-904117d554d2",
      "cell_type": "code",
      "source": "# There is more posts than authors, so it makes sense to separate DataFrame on two ones",
      "metadata": {
        "trusted": true
      },
      "outputs": [],
      "execution_count": 365
    },
    {
      "id": "43a5a95a-8db5-424f-aad8-09c84edff73f",
      "cell_type": "code",
      "source": "# Users with Karma rate\ndf_users = df[['Author','LinkKarma','Karma', 'AuthorIsGold']]\n# Getting rid of deleted users\ndf_users = df_users[df_users['Author']!='[deleted]']",
      "metadata": {
        "trusted": true
      },
      "outputs": [],
      "execution_count": 366
    },
    {
      "id": "eb301c7b-695a-4b4e-9736-02a1e68a0f3d",
      "cell_type": "code",
      "source": "# Delete duplicates and assign UserID\ndf_users = df_users.drop_duplicates().reset_index(drop = True)\ndf_users['UserID'] = range(len(df_users))",
      "metadata": {
        "trusted": true
      },
      "outputs": [],
      "execution_count": 367
    },
    {
      "id": "866c953b-79e0-4f24-9ae7-6f6c44a31c9e",
      "cell_type": "code",
      "source": "# UserID should be first\ndf_users = df_users.reindex(columns = ['UserID', 'Author', 'LinkKarma', 'Karma', 'AuthorIsGold'])",
      "metadata": {
        "trusted": true
      },
      "outputs": [],
      "execution_count": 368
    },
    {
      "id": "3dbf6838-427b-4882-8fdc-da1cb6cd6100",
      "cell_type": "code",
      "source": "# Post and its characteristic\ndf_posts = df[['PostID','Text','PressTime','Upvotes', 'Downvotes', 'Author']]",
      "metadata": {
        "trusted": true
      },
      "outputs": [],
      "execution_count": 369
    },
    {
      "id": "ff47df0c-918e-46ab-8422-6e5834f0dc9f",
      "cell_type": "code",
      "source": "# Check if there are posts with empty text\ndf_posts[df_posts['Text'].isna()]",
      "metadata": {
        "trusted": true
      },
      "outputs": [
        {
          "execution_count": 370,
          "output_type": "execute_result",
          "data": {
            "text/plain": "       PostID Text   PressTime  Upvotes  Downvotes         Author\n1      461m91  NaN  1455612503        0          0     LordSadoth\n3      462j49  NaN  1455630894        0          0    NyanTortuga\n6      4659c7  NaN  1455665184        0          0       Golossos\n8      45sdfi  NaN  1455477088      302          0         Clouse\n27     462nkh  NaN  1455632848        0          0  sayitaintsoap\n...       ...  ...         ...      ...        ...            ...\n34158  461m91  NaN  1455612503        0          0     LordSadoth\n34171  44uzr8  NaN  1454992844      190          0     balonibutt\n34181  44u69n  NaN  1454981106       38          0   PurelyCarbon\n34194  452nbf  NaN  1455110501      106          0         IvanMK\n34201  44dbe4  NaN  1454712260       77          0    Robbie_Kass\n\n[1898 rows x 6 columns]",
            "text/html": "<div>\n<style scoped>\n    .dataframe tbody tr th:only-of-type {\n        vertical-align: middle;\n    }\n\n    .dataframe tbody tr th {\n        vertical-align: top;\n    }\n\n    .dataframe thead th {\n        text-align: right;\n    }\n</style>\n<table border=\"1\" class=\"dataframe\">\n  <thead>\n    <tr style=\"text-align: right;\">\n      <th></th>\n      <th>PostID</th>\n      <th>Text</th>\n      <th>PressTime</th>\n      <th>Upvotes</th>\n      <th>Downvotes</th>\n      <th>Author</th>\n    </tr>\n  </thead>\n  <tbody>\n    <tr>\n      <th>1</th>\n      <td>461m91</td>\n      <td>NaN</td>\n      <td>1455612503</td>\n      <td>0</td>\n      <td>0</td>\n      <td>LordSadoth</td>\n    </tr>\n    <tr>\n      <th>3</th>\n      <td>462j49</td>\n      <td>NaN</td>\n      <td>1455630894</td>\n      <td>0</td>\n      <td>0</td>\n      <td>NyanTortuga</td>\n    </tr>\n    <tr>\n      <th>6</th>\n      <td>4659c7</td>\n      <td>NaN</td>\n      <td>1455665184</td>\n      <td>0</td>\n      <td>0</td>\n      <td>Golossos</td>\n    </tr>\n    <tr>\n      <th>8</th>\n      <td>45sdfi</td>\n      <td>NaN</td>\n      <td>1455477088</td>\n      <td>302</td>\n      <td>0</td>\n      <td>Clouse</td>\n    </tr>\n    <tr>\n      <th>27</th>\n      <td>462nkh</td>\n      <td>NaN</td>\n      <td>1455632848</td>\n      <td>0</td>\n      <td>0</td>\n      <td>sayitaintsoap</td>\n    </tr>\n    <tr>\n      <th>...</th>\n      <td>...</td>\n      <td>...</td>\n      <td>...</td>\n      <td>...</td>\n      <td>...</td>\n      <td>...</td>\n    </tr>\n    <tr>\n      <th>34158</th>\n      <td>461m91</td>\n      <td>NaN</td>\n      <td>1455612503</td>\n      <td>0</td>\n      <td>0</td>\n      <td>LordSadoth</td>\n    </tr>\n    <tr>\n      <th>34171</th>\n      <td>44uzr8</td>\n      <td>NaN</td>\n      <td>1454992844</td>\n      <td>190</td>\n      <td>0</td>\n      <td>balonibutt</td>\n    </tr>\n    <tr>\n      <th>34181</th>\n      <td>44u69n</td>\n      <td>NaN</td>\n      <td>1454981106</td>\n      <td>38</td>\n      <td>0</td>\n      <td>PurelyCarbon</td>\n    </tr>\n    <tr>\n      <th>34194</th>\n      <td>452nbf</td>\n      <td>NaN</td>\n      <td>1455110501</td>\n      <td>106</td>\n      <td>0</td>\n      <td>IvanMK</td>\n    </tr>\n    <tr>\n      <th>34201</th>\n      <td>44dbe4</td>\n      <td>NaN</td>\n      <td>1454712260</td>\n      <td>77</td>\n      <td>0</td>\n      <td>Robbie_Kass</td>\n    </tr>\n  </tbody>\n</table>\n<p>1898 rows × 6 columns</p>\n</div>"
          },
          "metadata": {}
        }
      ],
      "execution_count": 370
    },
    {
      "id": "e40204cf-5878-4e5f-85ef-deed6d41d35e",
      "cell_type": "code",
      "source": "# Delete such rows\ndf_posts = df_posts[df_posts['Text'].notna()]",
      "metadata": {
        "trusted": true
      },
      "outputs": [],
      "execution_count": 371
    },
    {
      "id": "c4a6b936-94dc-4bd8-8dad-613c37eb2792",
      "cell_type": "code",
      "source": "df_posts = df_posts.reset_index(drop = True)",
      "metadata": {
        "trusted": true
      },
      "outputs": [],
      "execution_count": 372
    },
    {
      "id": "5f415395-ac22-4a1f-9a61-dffd6be0f6a6",
      "cell_type": "code",
      "source": "df_posts['PostID'] = range(len(df_posts))",
      "metadata": {
        "trusted": true
      },
      "outputs": [],
      "execution_count": 373
    },
    {
      "id": "f4283296-e9de-4251-977e-02ae1c48f5e9",
      "cell_type": "code",
      "source": "# Adding UserID column to posts",
      "metadata": {
        "trusted": true
      },
      "outputs": [],
      "execution_count": 374
    },
    {
      "id": "9e6ebbdb-0661-4e39-8d9e-c936cc72af06",
      "cell_type": "code",
      "source": "# Assign each username to UserID\nauthor_to_id = dict(zip(df_users['Author'], df_users['UserID']))",
      "metadata": {
        "trusted": true
      },
      "outputs": [],
      "execution_count": 375
    },
    {
      "id": "55809b67-620f-4a48-a615-867c4e1937df",
      "cell_type": "code",
      "source": "# Write UserID in posts\ndf_posts['UserID'] = df_posts['Author'].map(author_to_id)",
      "metadata": {
        "trusted": true
      },
      "outputs": [],
      "execution_count": 376
    },
    {
      "id": "063ab57c-0153-42fb-841d-1b165b11cb86",
      "cell_type": "code",
      "source": "# Delete threads of deleted authors\ndf_posts = df_posts[df_posts['UserID'].notna()]",
      "metadata": {
        "trusted": true
      },
      "outputs": [],
      "execution_count": 377
    },
    {
      "id": "0c4b2eb5-70a6-4169-b7a3-d847b1cd387d",
      "cell_type": "code",
      "source": "# Delete Author column in posts\ndf_posts = df_posts.drop('Author', axis = 1)",
      "metadata": {
        "trusted": true
      },
      "outputs": [],
      "execution_count": 378
    },
    {
      "id": "d3753465-bc4d-4f0d-997f-8f79edbd1093",
      "cell_type": "code",
      "source": "# Convert UserID to int\ndf_posts['UserID'] = df_posts['UserID'].astype(int)",
      "metadata": {
        "trusted": true
      },
      "outputs": [],
      "execution_count": 379
    },
    {
      "id": "dea5d3fd-f6cd-4743-b8f4-d3f1cd69ac9e",
      "cell_type": "code",
      "source": "# Change the time format\ndf_posts.loc[:, 'PressTime'] = pd.to_datetime(df_posts['PressTime'], unit = 's')",
      "metadata": {
        "trusted": true
      },
      "outputs": [],
      "execution_count": 381
    },
    {
      "id": "f1820792-14dd-4c87-b451-3ccebcfad615",
      "cell_type": "code",
      "source": "",
      "metadata": {
        "trusted": true
      },
      "outputs": [],
      "execution_count": null
    },
    {
      "id": "30692101-6b38-4edc-b2e5-228dcd99d956",
      "cell_type": "code",
      "source": "",
      "metadata": {
        "trusted": true
      },
      "outputs": [],
      "execution_count": null
    }
  ]
}