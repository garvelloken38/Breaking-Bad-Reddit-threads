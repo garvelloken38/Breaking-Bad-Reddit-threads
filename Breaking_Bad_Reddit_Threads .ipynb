{
  "metadata": {
    "kernelspec": {
      "name": "python",
      "display_name": "Python (Pyodide)",
      "language": "python"
    },
    "language_info": {
      "codemirror_mode": {
        "name": "python",
        "version": 3
      },
      "file_extension": ".py",
      "mimetype": "text/x-python",
      "name": "python",
      "nbconvert_exporter": "python",
      "pygments_lexer": "ipython3",
      "version": "3.8"
    }
  },
  "nbformat_minor": 5,
  "nbformat": 4,
  "cells": [
    {
      "id": "4f28c840-d78f-4a47-905e-9ae32e70c49b",
      "cell_type": "code",
      "source": "import pandas as pd",
      "metadata": {
        "trusted": true
      },
      "outputs": [],
      "execution_count": 1
    },
    {
      "id": "65a0957f-5ed1-4585-8a4f-794302378f47",
      "cell_type": "code",
      "source": "df = pd.read_csv('television_breakingbad.csv')",
      "metadata": {
        "trusted": true
      },
      "outputs": [],
      "execution_count": 2
    },
    {
      "id": "98e07ae2-998f-442d-aa41-740af97912ea",
      "cell_type": "code",
      "source": "# Firstrly, I assign a name to each column to make the DataFrame easier to read\ndf.columns = ['ID', 'Text', 'PostID', 'Subreddit', 'Metareddit', 'PressTime', 'Author', \n           'Upvotes', 'Downvotes', 'LinkKarma', 'Karma', 'AuthorIsGold']\n",
      "metadata": {
        "trusted": true
      },
      "outputs": [],
      "execution_count": 3
    },
    {
      "id": "c4bc2d30-960b-4082-96cb-8fb911ff55f8",
      "cell_type": "code",
      "source": "# Column \"ID\" is unnecessary, because there is a \"Post ID\"\ndf = df.drop(\"ID\", axis=1)\n# Furthermore, I will not use Subreddit and Metareddit columns since all threads are dedicated to one topic - The Breaking Bad series",
      "metadata": {
        "trusted": true
      },
      "outputs": [],
      "execution_count": 4
    },
    {
      "id": "abb589f1-20ac-433e-9d52-904117d554d2",
      "cell_type": "code",
      "source": "# There is more posts than authors, so it makes sense to separate DataFrame on two ones",
      "metadata": {
        "trusted": true
      },
      "outputs": [],
      "execution_count": 5
    },
    {
      "id": "43a5a95a-8db5-424f-aad8-09c84edff73f",
      "cell_type": "code",
      "source": "# Users with Karma rate\ndf_users = df[['Author','LinkKarma','Karma', 'AuthorIsGold']]\n# Getting rid of deleted users\ndf_users = df_users[df_users['Author']!='[deleted]']",
      "metadata": {
        "trusted": true
      },
      "outputs": [],
      "execution_count": 6
    },
    {
      "id": "eb301c7b-695a-4b4e-9736-02a1e68a0f3d",
      "cell_type": "code",
      "source": "# Delete duplicates and assign UserID\ndf_users = df_users.drop_duplicates().reset_index(drop = True)\ndf_users['UserID'] = range(len(df_users))",
      "metadata": {
        "trusted": true
      },
      "outputs": [],
      "execution_count": 7
    },
    {
      "id": "866c953b-79e0-4f24-9ae7-6f6c44a31c9e",
      "cell_type": "code",
      "source": "# UserID should be first\ndf_users = df_users.reindex(columns = ['UserID', 'Author', 'LinkKarma', 'Karma', 'AuthorIsGold'])",
      "metadata": {
        "trusted": true
      },
      "outputs": [],
      "execution_count": 8
    },
    {
      "id": "3dbf6838-427b-4882-8fdc-da1cb6cd6100",
      "cell_type": "code",
      "source": "# Post and its characteristic\ndf_posts = df[['PostID','Text','PressTime','Upvotes', 'Downvotes', 'Author']]",
      "metadata": {
        "trusted": true
      },
      "outputs": [],
      "execution_count": 9
    },
    {
      "id": "ff47df0c-918e-46ab-8422-6e5834f0dc9f",
      "cell_type": "code",
      "source": "# Check if there are posts with empty text\ndf_posts[df_posts['Text'].isna()]",
      "metadata": {
        "trusted": true
      },
      "outputs": [
        {
          "execution_count": 10,
          "output_type": "execute_result",
          "data": {
            "text/plain": "       PostID Text   PressTime  Upvotes  Downvotes         Author\n1      461m91  NaN  1455612503        0          0     LordSadoth\n3      462j49  NaN  1455630894        0          0    NyanTortuga\n6      4659c7  NaN  1455665184        0          0       Golossos\n8      45sdfi  NaN  1455477088      302          0         Clouse\n27     462nkh  NaN  1455632848        0          0  sayitaintsoap\n...       ...  ...         ...      ...        ...            ...\n34158  461m91  NaN  1455612503        0          0     LordSadoth\n34171  44uzr8  NaN  1454992844      190          0     balonibutt\n34181  44u69n  NaN  1454981106       38          0   PurelyCarbon\n34194  452nbf  NaN  1455110501      106          0         IvanMK\n34201  44dbe4  NaN  1454712260       77          0    Robbie_Kass\n\n[1898 rows x 6 columns]",
            "text/html": "<div>\n<style scoped>\n    .dataframe tbody tr th:only-of-type {\n        vertical-align: middle;\n    }\n\n    .dataframe tbody tr th {\n        vertical-align: top;\n    }\n\n    .dataframe thead th {\n        text-align: right;\n    }\n</style>\n<table border=\"1\" class=\"dataframe\">\n  <thead>\n    <tr style=\"text-align: right;\">\n      <th></th>\n      <th>PostID</th>\n      <th>Text</th>\n      <th>PressTime</th>\n      <th>Upvotes</th>\n      <th>Downvotes</th>\n      <th>Author</th>\n    </tr>\n  </thead>\n  <tbody>\n    <tr>\n      <th>1</th>\n      <td>461m91</td>\n      <td>NaN</td>\n      <td>1455612503</td>\n      <td>0</td>\n      <td>0</td>\n      <td>LordSadoth</td>\n    </tr>\n    <tr>\n      <th>3</th>\n      <td>462j49</td>\n      <td>NaN</td>\n      <td>1455630894</td>\n      <td>0</td>\n      <td>0</td>\n      <td>NyanTortuga</td>\n    </tr>\n    <tr>\n      <th>6</th>\n      <td>4659c7</td>\n      <td>NaN</td>\n      <td>1455665184</td>\n      <td>0</td>\n      <td>0</td>\n      <td>Golossos</td>\n    </tr>\n    <tr>\n      <th>8</th>\n      <td>45sdfi</td>\n      <td>NaN</td>\n      <td>1455477088</td>\n      <td>302</td>\n      <td>0</td>\n      <td>Clouse</td>\n    </tr>\n    <tr>\n      <th>27</th>\n      <td>462nkh</td>\n      <td>NaN</td>\n      <td>1455632848</td>\n      <td>0</td>\n      <td>0</td>\n      <td>sayitaintsoap</td>\n    </tr>\n    <tr>\n      <th>...</th>\n      <td>...</td>\n      <td>...</td>\n      <td>...</td>\n      <td>...</td>\n      <td>...</td>\n      <td>...</td>\n    </tr>\n    <tr>\n      <th>34158</th>\n      <td>461m91</td>\n      <td>NaN</td>\n      <td>1455612503</td>\n      <td>0</td>\n      <td>0</td>\n      <td>LordSadoth</td>\n    </tr>\n    <tr>\n      <th>34171</th>\n      <td>44uzr8</td>\n      <td>NaN</td>\n      <td>1454992844</td>\n      <td>190</td>\n      <td>0</td>\n      <td>balonibutt</td>\n    </tr>\n    <tr>\n      <th>34181</th>\n      <td>44u69n</td>\n      <td>NaN</td>\n      <td>1454981106</td>\n      <td>38</td>\n      <td>0</td>\n      <td>PurelyCarbon</td>\n    </tr>\n    <tr>\n      <th>34194</th>\n      <td>452nbf</td>\n      <td>NaN</td>\n      <td>1455110501</td>\n      <td>106</td>\n      <td>0</td>\n      <td>IvanMK</td>\n    </tr>\n    <tr>\n      <th>34201</th>\n      <td>44dbe4</td>\n      <td>NaN</td>\n      <td>1454712260</td>\n      <td>77</td>\n      <td>0</td>\n      <td>Robbie_Kass</td>\n    </tr>\n  </tbody>\n</table>\n<p>1898 rows × 6 columns</p>\n</div>"
          },
          "metadata": {}
        }
      ],
      "execution_count": 10
    },
    {
      "id": "e40204cf-5878-4e5f-85ef-deed6d41d35e",
      "cell_type": "code",
      "source": "# Delete such rows\ndf_posts = df_posts[df_posts['Text'].notna()]",
      "metadata": {
        "trusted": true
      },
      "outputs": [],
      "execution_count": 11
    },
    {
      "id": "c4a6b936-94dc-4bd8-8dad-613c37eb2792",
      "cell_type": "code",
      "source": "df_posts = df_posts.reset_index(drop = True)",
      "metadata": {
        "trusted": true
      },
      "outputs": [],
      "execution_count": 12
    },
    {
      "id": "5f415395-ac22-4a1f-9a61-dffd6be0f6a6",
      "cell_type": "code",
      "source": "df_posts['PostID'] = range(len(df_posts))",
      "metadata": {
        "trusted": true
      },
      "outputs": [],
      "execution_count": 13
    },
    {
      "id": "f4283296-e9de-4251-977e-02ae1c48f5e9",
      "cell_type": "code",
      "source": "# Adding UserID column to posts",
      "metadata": {
        "trusted": true
      },
      "outputs": [],
      "execution_count": 14
    },
    {
      "id": "9e6ebbdb-0661-4e39-8d9e-c936cc72af06",
      "cell_type": "code",
      "source": "# Assign each username to UserID\nauthor_to_id = dict(zip(df_users['Author'], df_users['UserID']))",
      "metadata": {
        "trusted": true
      },
      "outputs": [],
      "execution_count": 15
    },
    {
      "id": "55809b67-620f-4a48-a615-867c4e1937df",
      "cell_type": "code",
      "source": "# Write UserID in posts\ndf_posts['UserID'] = df_posts['Author'].map(author_to_id)",
      "metadata": {
        "trusted": true
      },
      "outputs": [],
      "execution_count": 16
    },
    {
      "id": "063ab57c-0153-42fb-841d-1b165b11cb86",
      "cell_type": "code",
      "source": "# Delete threads of deleted authors\ndf_posts = df_posts[df_posts['UserID'].notna()]",
      "metadata": {
        "trusted": true
      },
      "outputs": [],
      "execution_count": 17
    },
    {
      "id": "0c4b2eb5-70a6-4169-b7a3-d847b1cd387d",
      "cell_type": "code",
      "source": "# Delete Author column in posts\ndf_posts = df_posts.drop('Author', axis = 1)",
      "metadata": {
        "trusted": true
      },
      "outputs": [],
      "execution_count": 18
    },
    {
      "id": "d3753465-bc4d-4f0d-997f-8f79edbd1093",
      "cell_type": "code",
      "source": "# Convert UserID to int\ndf_posts['UserID'] = df_posts['UserID'].astype(int)",
      "metadata": {
        "trusted": true
      },
      "outputs": [],
      "execution_count": 19
    },
    {
      "id": "dea5d3fd-f6cd-4743-b8f4-d3f1cd69ac9e",
      "cell_type": "code",
      "source": "# Change the time format\ndf_posts.loc[:, 'PressTime'] = pd.to_datetime(df_posts['PressTime'], unit = 's')",
      "metadata": {
        "trusted": true
      },
      "outputs": [
        {
          "name": "stderr",
          "output_type": "stream",
          "text": "<ipython-input-20-e14c686b5bbe>:2: FutureWarning: Setting an item of incompatible dtype is deprecated and will raise in a future error of pandas. Value '<DatetimeArray>\n['2016-02-17 00:23:42', '2016-02-17 01:12:43', '2016-01-04 18:12:25',\n '2016-02-10 23:56:07', '2016-02-10 23:51:06', '2016-02-15 05:35:13',\n '2015-07-06 19:12:41', '2015-07-16 00:10:51', '2015-07-07 01:13:32',\n '2015-12-31 23:10:26',\n ...\n '2016-02-06 18:32:55', '2016-02-04 02:59:43', '2016-02-04 00:55:07',\n '2016-02-06 20:59:20', '2016-02-06 22:21:34', '2016-02-06 21:58:35',\n '2016-02-06 22:10:43', '2016-02-07 16:19:24', '2016-02-06 21:26:43',\n '2016-02-12 18:29:44']\nLength: 32110, dtype: datetime64[ns]' has dtype incompatible with int64, please explicitly cast to a compatible dtype first.\n  df_posts.loc[:, 'PressTime'] = pd.to_datetime(df_posts['PressTime'], unit = 's')\n"
        }
      ],
      "execution_count": 20
    },
    {
      "id": "552ecf2e-5013-4764-b81c-cdfd5663d0f6",
      "cell_type": "code",
      "source": "%pip install seaborn\nimport matplotlib.pyplot as plt\nimport seaborn as sns",
      "metadata": {
        "trusted": true
      },
      "outputs": [
        {
          "name": "stderr",
          "output_type": "stream",
          "text": "Matplotlib is building the font cache; this may take a moment.\n"
        }
      ],
      "execution_count": 21
    },
    {
      "id": "dab305b6-9da8-4c1a-a826-7b7f27286458",
      "cell_type": "code",
      "source": "# How much karma do gold authors habe in comparison with regular ones\ndf_users.groupby('AuthorIsGold')['Karma'].describe()",
      "metadata": {
        "trusted": true
      },
      "outputs": [
        {
          "execution_count": 22,
          "output_type": "execute_result",
          "data": {
            "text/plain": "              count          mean            std    min     25%     50%  \\\nAuthorIsGold                                                              \n0.0           483.0   9744.376812   20826.186813 -100.0   299.5  2277.0   \n1.0            21.0  69371.714286  169456.831387  662.0  3490.0  6668.0   \n\n                  75%       max  \nAuthorIsGold                     \n0.0            9198.0  201554.0  \n1.0           18114.0  678698.0  ",
            "text/html": "<div>\n<style scoped>\n    .dataframe tbody tr th:only-of-type {\n        vertical-align: middle;\n    }\n\n    .dataframe tbody tr th {\n        vertical-align: top;\n    }\n\n    .dataframe thead th {\n        text-align: right;\n    }\n</style>\n<table border=\"1\" class=\"dataframe\">\n  <thead>\n    <tr style=\"text-align: right;\">\n      <th></th>\n      <th>count</th>\n      <th>mean</th>\n      <th>std</th>\n      <th>min</th>\n      <th>25%</th>\n      <th>50%</th>\n      <th>75%</th>\n      <th>max</th>\n    </tr>\n    <tr>\n      <th>AuthorIsGold</th>\n      <th></th>\n      <th></th>\n      <th></th>\n      <th></th>\n      <th></th>\n      <th></th>\n      <th></th>\n      <th></th>\n    </tr>\n  </thead>\n  <tbody>\n    <tr>\n      <th>0.0</th>\n      <td>483.0</td>\n      <td>9744.376812</td>\n      <td>20826.186813</td>\n      <td>-100.0</td>\n      <td>299.5</td>\n      <td>2277.0</td>\n      <td>9198.0</td>\n      <td>201554.0</td>\n    </tr>\n    <tr>\n      <th>1.0</th>\n      <td>21.0</td>\n      <td>69371.714286</td>\n      <td>169456.831387</td>\n      <td>662.0</td>\n      <td>3490.0</td>\n      <td>6668.0</td>\n      <td>18114.0</td>\n      <td>678698.0</td>\n    </tr>\n  </tbody>\n</table>\n</div>"
          },
          "metadata": {}
        }
      ],
      "execution_count": 22
    },
    {
      "id": "bb380b12-6855-4261-8580-6927bda509c7",
      "cell_type": "code",
      "source": "sns.boxplot(x='AuthorIsGold', y='Karma', data=df_users)\nplt.title('User comparison')\nplt.xlabel('Status')\nplt.ylabel('Karma')\nplt.xticks([0, 1], ['NotGold', 'Gold'])\nplt.show()",
      "metadata": {
        "trusted": true
      },
      "outputs": [
        {
          "output_type": "display_data",
          "data": {
            "text/plain": "<Figure size 640x480 with 1 Axes>",
            "image/png": "[encoded data removed]"
          },
          "metadata": {}
        }
      ],
      "execution_count": 23
    },
    {
      "id": "f026e313-19ed-4915-a14c-034f3d557fee",
      "cell_type": "code",
      "source": "# As we can see the majority of values are concentrated within 10000 but there are outliers up to 700000",
      "metadata": {
        "trusted": true
      },
      "outputs": [],
      "execution_count": 24
    },
    {
      "id": "23639ac3-2e35-4476-b7f8-33d82498867e",
      "cell_type": "code",
      "source": "top_authors = df_posts['UserID'].value_counts().head(10)\ntop_authors_with_names = top_authors.reset_index().merge(df_users[['UserID', 'Author','AuthorIsGold']], on='UserID')\nprint(\"Top 10 active users: \\n\", top_authors_with_names)",
      "metadata": {
        "trusted": true
      },
      "outputs": [
        {
          "name": "stdout",
          "output_type": "stream",
          "text": "Top 10 active users: \n    UserID  count              Author  AuthorIsGold\n0       4    699             CMelody           0.0\n1       2    500            Amblonyx           0.0\n2      39    350            RookOnzo           0.0\n3      91    349      quesadillarito           0.0\n4      62    349      The_Jean_Genie           0.0\n5     344    300  HowToBeaGoodLeader           0.0\n6      88    300    chief_dirtypants           0.0\n7     151    300    higuysimonreddit           0.0\n8      51    300              dack07           0.0\n9      81    250        zebrahead110           0.0\n"
        }
      ],
      "execution_count": 25
    },
    {
      "id": "2a4d646b-af78-4271-8fd5-c4d59392fbcf",
      "cell_type": "code",
      "source": "# It is surprising ,but the most active users do not have a gold status",
      "metadata": {
        "trusted": true
      },
      "outputs": [],
      "execution_count": 26
    },
    {
      "id": "82539bb7-a6cb-4e58-b824-ed87a3c44904",
      "cell_type": "code",
      "source": "# Here are the most popular words ",
      "metadata": {
        "trusted": true
      },
      "outputs": [],
      "execution_count": 27
    },
    {
      "id": "8d17dfef-0df8-4b9b-aff2-6741bf9d8767",
      "cell_type": "code",
      "source": "import re\ntxt = ' '.join(df_posts['Text'])\nwords = re.findall(r'\\w+', txt.lower())",
      "metadata": {
        "trusted": true
      },
      "outputs": [],
      "execution_count": 50
    },
    {
      "id": "ca3f8786-5ee0-4def-bd2b-e68ffa0a6269",
      "cell_type": "code",
      "source": "com_word = {'it','you','i','at','here','is','although','up','for','this','with','him','they','she','be','have','a','the','am','as','to','and','that','of','in','s','was','he',\n           'has','nt','do','not','did','like','on','but','his','when','so','what','when','just','if','about','would','think','my','or'}",
      "metadata": {
        "trusted": true
      },
      "outputs": [],
      "execution_count": 81
    },
    {
      "id": "f7d0b771-7950-489c-8e45-c775c3186246",
      "cell_type": "code",
      "source": "from collections import Counter \ncommon_words = Counter(words).most_common(100)",
      "metadata": {
        "trusted": true
      },
      "outputs": [],
      "execution_count": 82
    },
    {
      "id": "8287b92a-cfdc-44e3-aeb6-801837f889e4",
      "cell_type": "code",
      "source": "# Deleting uninteresting words such as prepositions\nfor i in com_word:\n    for k in range(len(common_words)-1):\n        if common_words[k][0] == i:\n            common_words.pop(k)",
      "metadata": {
        "trusted": true
      },
      "outputs": [],
      "execution_count": 83
    },
    {
      "id": "05667bdf-3312-425a-8cb4-b19da292fbbf",
      "cell_type": "code",
      "source": "df_words = pd.DataFrame(common_words, columns = ['Word','Quantity'])",
      "metadata": {
        "trusted": true
      },
      "outputs": [],
      "execution_count": 88
    },
    {
      "id": "47a539fa-8ef0-4f0a-a5fe-4b011b555d7e",
      "cell_type": "code",
      "source": "plt.figure(figsize=(4, 3))\nsns.barplot(x='Word', y='Quantity', data=df_words.head(5))\nplt.title('Top 5 most common words')\nplt.xlabel('word')\nplt.ylabel('quantity')\nplt.xticks(rotation=45) \nplt.show()",
      "metadata": {
        "trusted": true
      },
      "outputs": [
        {
          "output_type": "display_data",
          "data": {
            "text/plain": "<Figure size 400x300 with 1 Axes>",
            "image/png": "[encoded data removed]"
          },
          "metadata": {}
        }
      ],
      "execution_count": 105
    },
    {
      "id": "5a4ada7f-8965-4376-8a95-32ab84120c49",
      "cell_type": "code",
      "source": "# Users mostly speaking about main characters: Walter and Jess, also they do not forget about Gustavo and Hank",
      "metadata": {
        "trusted": true
      },
      "outputs": [],
      "execution_count": null
    }
  ]
}